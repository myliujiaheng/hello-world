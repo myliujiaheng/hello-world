{
  "nbformat": 4,
  "nbformat_minor": 0,
  "metadata": {
    "colab": {
      "name": "project.ipynb",
      "provenance": [],
      "collapsed_sections": [],
      "include_colab_link": true
    },
    "kernelspec": {
      "name": "python3",
      "display_name": "Python 3"
    }
  },
  "cells": [
    {
      "cell_type": "markdown",
      "metadata": {
        "id": "view-in-github",
        "colab_type": "text"
      },
      "source": [
        "<a href=\"https://colab.research.google.com/github/myliujiaheng/hello-world/blob/master/final_project.ipynb\" target=\"_parent\"><img src=\"https://colab.research.google.com/assets/colab-badge.svg\" alt=\"Open In Colab\"/></a>"
      ]
    },
    {
      "cell_type": "code",
      "metadata": {
        "id": "U3P3UsN9Ht0i",
        "colab_type": "code",
        "colab": {}
      },
      "source": [
        "import pandas as pd\n",
        "data = pd.read_csv('winequality-red.csv')\n",
        "data.describe()\n",
        "data.isnull().sum()\n",
        "data.head()\n",
        "data.columns=['f_acid', 'v_acid', 'c_acid', 'res_sugar', 'cl', 'f_sd', 't_sd', 'dens', 'pH', 'sul', 'alc', 'quality']\n",
        "data.head()"
      ],
      "execution_count": 0,
      "outputs": []
    },
    {
      "cell_type": "code",
      "metadata": {
        "id": "mLbvEecRHzMo",
        "colab_type": "code",
        "colab": {}
      },
      "source": [
        "import matplotlib.pyplot as plt\n",
        "import seaborn as sns"
      ],
      "execution_count": 0,
      "outputs": []
    },
    {
      "cell_type": "code",
      "metadata": {
        "id": "l5UlD5DW-6bH",
        "colab_type": "code",
        "colab": {}
      },
      "source": [
        "for i in range(0,12):\n",
        "  sns.boxplot(data.iloc[:,i])\n",
        "  plt.xlabel(data.columns[i])\n",
        "  plt.show()"
      ],
      "execution_count": 0,
      "outputs": []
    },
    {
      "cell_type": "code",
      "metadata": {
        "id": "DmxS1dhnT4Io",
        "colab_type": "code",
        "colab": {
          "base_uri": "https://localhost:8080/",
          "height": 359
        },
        "outputId": "81e6d9a9-ff5f-42ff-aa0a-82231359643d"
      },
      "source": [
        "#select = data['quality'] <= 5\n",
        "select1 = data['quality'] <= 4\n",
        "select2 = data['quality'] >= 7\n",
        "\n",
        "data['review'] = 'normal'\n",
        "data.loc[select1,'review'] = 'bad'\n",
        "data.loc[select2,'review'] = 'good'\n",
        "\n",
        "#data['review2'] = 'good'\n",
        "#data.loc[select, 'review2'] = 'bad'\n",
        "\n",
        "data.head(10)"
      ],
      "execution_count": 91,
      "outputs": [
        {
          "output_type": "execute_result",
          "data": {
            "text/html": [
              "<div>\n",
              "<style scoped>\n",
              "    .dataframe tbody tr th:only-of-type {\n",
              "        vertical-align: middle;\n",
              "    }\n",
              "\n",
              "    .dataframe tbody tr th {\n",
              "        vertical-align: top;\n",
              "    }\n",
              "\n",
              "    .dataframe thead th {\n",
              "        text-align: right;\n",
              "    }\n",
              "</style>\n",
              "<table border=\"1\" class=\"dataframe\">\n",
              "  <thead>\n",
              "    <tr style=\"text-align: right;\">\n",
              "      <th></th>\n",
              "      <th>f_acid</th>\n",
              "      <th>v_acid</th>\n",
              "      <th>c_acid</th>\n",
              "      <th>res_sugar</th>\n",
              "      <th>cl</th>\n",
              "      <th>f_sd</th>\n",
              "      <th>t_sd</th>\n",
              "      <th>dens</th>\n",
              "      <th>pH</th>\n",
              "      <th>sul</th>\n",
              "      <th>alc</th>\n",
              "      <th>quality</th>\n",
              "      <th>review</th>\n",
              "    </tr>\n",
              "  </thead>\n",
              "  <tbody>\n",
              "    <tr>\n",
              "      <th>0</th>\n",
              "      <td>7.4</td>\n",
              "      <td>0.70</td>\n",
              "      <td>0.00</td>\n",
              "      <td>1.9</td>\n",
              "      <td>0.076</td>\n",
              "      <td>11.0</td>\n",
              "      <td>34.0</td>\n",
              "      <td>0.9978</td>\n",
              "      <td>3.51</td>\n",
              "      <td>0.56</td>\n",
              "      <td>9.4</td>\n",
              "      <td>5</td>\n",
              "      <td>normal</td>\n",
              "    </tr>\n",
              "    <tr>\n",
              "      <th>1</th>\n",
              "      <td>7.8</td>\n",
              "      <td>0.88</td>\n",
              "      <td>0.00</td>\n",
              "      <td>2.6</td>\n",
              "      <td>0.098</td>\n",
              "      <td>25.0</td>\n",
              "      <td>67.0</td>\n",
              "      <td>0.9968</td>\n",
              "      <td>3.20</td>\n",
              "      <td>0.68</td>\n",
              "      <td>9.8</td>\n",
              "      <td>5</td>\n",
              "      <td>normal</td>\n",
              "    </tr>\n",
              "    <tr>\n",
              "      <th>2</th>\n",
              "      <td>7.8</td>\n",
              "      <td>0.76</td>\n",
              "      <td>0.04</td>\n",
              "      <td>2.3</td>\n",
              "      <td>0.092</td>\n",
              "      <td>15.0</td>\n",
              "      <td>54.0</td>\n",
              "      <td>0.9970</td>\n",
              "      <td>3.26</td>\n",
              "      <td>0.65</td>\n",
              "      <td>9.8</td>\n",
              "      <td>5</td>\n",
              "      <td>normal</td>\n",
              "    </tr>\n",
              "    <tr>\n",
              "      <th>3</th>\n",
              "      <td>11.2</td>\n",
              "      <td>0.28</td>\n",
              "      <td>0.56</td>\n",
              "      <td>1.9</td>\n",
              "      <td>0.075</td>\n",
              "      <td>17.0</td>\n",
              "      <td>60.0</td>\n",
              "      <td>0.9980</td>\n",
              "      <td>3.16</td>\n",
              "      <td>0.58</td>\n",
              "      <td>9.8</td>\n",
              "      <td>6</td>\n",
              "      <td>normal</td>\n",
              "    </tr>\n",
              "    <tr>\n",
              "      <th>4</th>\n",
              "      <td>7.4</td>\n",
              "      <td>0.70</td>\n",
              "      <td>0.00</td>\n",
              "      <td>1.9</td>\n",
              "      <td>0.076</td>\n",
              "      <td>11.0</td>\n",
              "      <td>34.0</td>\n",
              "      <td>0.9978</td>\n",
              "      <td>3.51</td>\n",
              "      <td>0.56</td>\n",
              "      <td>9.4</td>\n",
              "      <td>5</td>\n",
              "      <td>normal</td>\n",
              "    </tr>\n",
              "    <tr>\n",
              "      <th>5</th>\n",
              "      <td>7.4</td>\n",
              "      <td>0.66</td>\n",
              "      <td>0.00</td>\n",
              "      <td>1.8</td>\n",
              "      <td>0.075</td>\n",
              "      <td>13.0</td>\n",
              "      <td>40.0</td>\n",
              "      <td>0.9978</td>\n",
              "      <td>3.51</td>\n",
              "      <td>0.56</td>\n",
              "      <td>9.4</td>\n",
              "      <td>5</td>\n",
              "      <td>normal</td>\n",
              "    </tr>\n",
              "    <tr>\n",
              "      <th>6</th>\n",
              "      <td>7.9</td>\n",
              "      <td>0.60</td>\n",
              "      <td>0.06</td>\n",
              "      <td>1.6</td>\n",
              "      <td>0.069</td>\n",
              "      <td>15.0</td>\n",
              "      <td>59.0</td>\n",
              "      <td>0.9964</td>\n",
              "      <td>3.30</td>\n",
              "      <td>0.46</td>\n",
              "      <td>9.4</td>\n",
              "      <td>5</td>\n",
              "      <td>normal</td>\n",
              "    </tr>\n",
              "    <tr>\n",
              "      <th>7</th>\n",
              "      <td>7.3</td>\n",
              "      <td>0.65</td>\n",
              "      <td>0.00</td>\n",
              "      <td>1.2</td>\n",
              "      <td>0.065</td>\n",
              "      <td>15.0</td>\n",
              "      <td>21.0</td>\n",
              "      <td>0.9946</td>\n",
              "      <td>3.39</td>\n",
              "      <td>0.47</td>\n",
              "      <td>10.0</td>\n",
              "      <td>7</td>\n",
              "      <td>good</td>\n",
              "    </tr>\n",
              "    <tr>\n",
              "      <th>8</th>\n",
              "      <td>7.8</td>\n",
              "      <td>0.58</td>\n",
              "      <td>0.02</td>\n",
              "      <td>2.0</td>\n",
              "      <td>0.073</td>\n",
              "      <td>9.0</td>\n",
              "      <td>18.0</td>\n",
              "      <td>0.9968</td>\n",
              "      <td>3.36</td>\n",
              "      <td>0.57</td>\n",
              "      <td>9.5</td>\n",
              "      <td>7</td>\n",
              "      <td>good</td>\n",
              "    </tr>\n",
              "    <tr>\n",
              "      <th>9</th>\n",
              "      <td>7.5</td>\n",
              "      <td>0.50</td>\n",
              "      <td>0.36</td>\n",
              "      <td>6.1</td>\n",
              "      <td>0.071</td>\n",
              "      <td>17.0</td>\n",
              "      <td>102.0</td>\n",
              "      <td>0.9978</td>\n",
              "      <td>3.35</td>\n",
              "      <td>0.80</td>\n",
              "      <td>10.5</td>\n",
              "      <td>5</td>\n",
              "      <td>normal</td>\n",
              "    </tr>\n",
              "  </tbody>\n",
              "</table>\n",
              "</div>"
            ],
            "text/plain": [
              "   f_acid  v_acid  c_acid  res_sugar     cl  ...    pH   sul   alc  quality  review\n",
              "0     7.4    0.70    0.00        1.9  0.076  ...  3.51  0.56   9.4        5  normal\n",
              "1     7.8    0.88    0.00        2.6  0.098  ...  3.20  0.68   9.8        5  normal\n",
              "2     7.8    0.76    0.04        2.3  0.092  ...  3.26  0.65   9.8        5  normal\n",
              "3    11.2    0.28    0.56        1.9  0.075  ...  3.16  0.58   9.8        6  normal\n",
              "4     7.4    0.70    0.00        1.9  0.076  ...  3.51  0.56   9.4        5  normal\n",
              "5     7.4    0.66    0.00        1.8  0.075  ...  3.51  0.56   9.4        5  normal\n",
              "6     7.9    0.60    0.06        1.6  0.069  ...  3.30  0.46   9.4        5  normal\n",
              "7     7.3    0.65    0.00        1.2  0.065  ...  3.39  0.47  10.0        7    good\n",
              "8     7.8    0.58    0.02        2.0  0.073  ...  3.36  0.57   9.5        7    good\n",
              "9     7.5    0.50    0.36        6.1  0.071  ...  3.35  0.80  10.5        5  normal\n",
              "\n",
              "[10 rows x 13 columns]"
            ]
          },
          "metadata": {
            "tags": []
          },
          "execution_count": 91
        }
      ]
    },
    {
      "cell_type": "code",
      "metadata": {
        "id": "VBhAz9vMZ3Sr",
        "colab_type": "code",
        "colab": {}
      },
      "source": [
        "sns.pairplot(data, vars=data.columns[0:3], hue='review2');"
      ],
      "execution_count": 0,
      "outputs": []
    },
    {
      "cell_type": "code",
      "metadata": {
        "id": "W19IuEJ_fZBt",
        "colab_type": "code",
        "colab": {}
      },
      "source": [
        "sns.pairplot(data, vars=['f_sd','t_sd','sul'], hue='review2');"
      ],
      "execution_count": 0,
      "outputs": []
    },
    {
      "cell_type": "code",
      "metadata": {
        "id": "PInKma6nhq1F",
        "colab_type": "code",
        "colab": {
          "base_uri": "https://localhost:8080/",
          "height": 365
        },
        "outputId": "28952576-8855-447c-e3e0-f4539874ec6f"
      },
      "source": [
        "sns.pairplot(data, vars=['cl','pH'], hue='review');"
      ],
      "execution_count": 88,
      "outputs": [
        {
          "output_type": "display_data",
          "data": {
            "image/png": "[encoded data removed]",
            "text/plain": [
              "<Figure size 431.125x360 with 6 Axes>"
            ]
          },
          "metadata": {
            "tags": []
          }
        }
      ]
    },
    {
      "cell_type": "code",
      "metadata": {
        "id": "73Ptbdn8kfAQ",
        "colab_type": "code",
        "colab": {}
      },
      "source": [
        "sns.pairplot(data, vars=['sul','cl','v_acid','pH', 'alc'], hue='review2');"
      ],
      "execution_count": 0,
      "outputs": []
    },
    {
      "cell_type": "code",
      "metadata": {
        "id": "yKV117yAagPL",
        "colab_type": "code",
        "colab": {}
      },
      "source": [
        "sns.pairplot(data, vars=['sul','res_sugar','v_acid', 'alc'], hue='review');"
      ],
      "execution_count": 0,
      "outputs": []
    },
    {
      "cell_type": "code",
      "metadata": {
        "id": "DaEYlwPCm9u2",
        "colab_type": "code",
        "colab": {}
      },
      "source": [
        "for i in range(0,12):\n",
        "  sns.boxplot('quality', data.columns[i], data = data)\n",
        "  plt.show()"
      ],
      "execution_count": 0,
      "outputs": []
    },
    {
      "cell_type": "code",
      "metadata": {
        "id": "ALYCjOssc5RF",
        "colab_type": "code",
        "colab": {}
      },
      "source": [
        "from sklearn.model_selection import cross_val_score\n",
        "import numpy as np\n",
        "\n",
        "def rmsef(model, train, lable):\n",
        "    rmse= np.sqrt(-cross_val_score(model, train, lable, scoring=\"neg_mean_squared_error\", cv = 5))\n",
        "    return(rmse)"
      ],
      "execution_count": 0,
      "outputs": []
    },
    {
      "cell_type": "code",
      "metadata": {
        "id": "S3AZL95wkNjb",
        "colab_type": "code",
        "colab": {}
      },
      "source": [
        "### SVM, SVM with PCA, SVM with sk feature selection\n",
        "from sklearn.svm import SVC\n",
        "from sklearn.decomposition import PCA\n",
        "from sklearn.feature_selection import SelectFromModel\n",
        "from sklearn.model_selection import cross_validate\n",
        "from sklearn.model_selection import train_test_split\n",
        "from sklearn.metrics import accuracy_score"
      ],
      "execution_count": 0,
      "outputs": []
    },
    {
      "cell_type": "code",
      "metadata": {
        "id": "wRfUJ5A2TlGr",
        "colab_type": "code",
        "colab": {}
      },
      "source": [
        "y = data.review\n",
        "X = data.drop(['quality', 'review'], axis=1)\n",
        "\n",
        "train_X, val_X, train_y, val_y = train_test_split(X, y, \n",
        "                                                    train_size=0.8,\n",
        "                                                    test_size=0.2,\n",
        "                                                    random_state=100)"
      ],
      "execution_count": 0,
      "outputs": []
    },
    {
      "cell_type": "code",
      "metadata": {
        "id": "KCzmwIViyqZ8",
        "colab_type": "code",
        "colab": {
          "base_uri": "https://localhost:8080/",
          "height": 88
        },
        "outputId": "9a880a15-41f2-4b8f-b3eb-486714d3c06d"
      },
      "source": [
        "## naive SVM\n",
        "svm = SVC(kernel='rbf') \n",
        "svm.fit(train_X, train_y) \n",
        "y_svm = svm.predict(train_X)\n",
        "\n",
        "svm_acc = accuracy_score(train_y, y_svm)\n",
        "print(svm_acc)"
      ],
      "execution_count": 28,
      "outputs": [
        {
          "output_type": "stream",
          "text": [
            "0.8811571540265832\n"
          ],
          "name": "stdout"
        },
        {
          "output_type": "stream",
          "text": [
            "/usr/local/lib/python3.6/dist-packages/sklearn/svm/base.py:193: FutureWarning: The default value of gamma will change from 'auto' to 'scale' in version 0.22 to account better for unscaled features. Set gamma explicitly to 'auto' or 'scale' to avoid this warning.\n",
            "  \"avoid this warning.\", FutureWarning)\n"
          ],
          "name": "stderr"
        }
      ]
    },
    {
      "cell_type": "code",
      "metadata": {
        "id": "yhiZFNe7qe6o",
        "colab_type": "code",
        "colab": {}
      },
      "source": [
        "## SVM with PCA\n",
        "# optimize n_components\n",
        "n_range = range(1,12)\n",
        "n_scores = []\n",
        "n_rmse = []\n",
        "\n",
        "for n in n_range:\n",
        "    pca=PCA(n_components=n) \n",
        "    X_pca = pca.fit_transform(X)\n",
        "    svm_temp = SVC(kernel='rbf')\n",
        "    scores = cross_validate(svm_temp, X_pca, y, cv=5, scoring='accuracy')\n",
        "    n_scores.append(scores['test_score'].mean())\n",
        "    \n",
        "\n",
        "plt.plot(n_range, n_scores)\n",
        "plt.xlabel('# of components')\n",
        "plt.ylabel('Cross-Validated Accuracy')\n",
        "\n",
        "plt.show()\n"
      ],
      "execution_count": 0,
      "outputs": []
    },
    {
      "cell_type": "code",
      "metadata": {
        "id": "3E4jFdl77Y3_",
        "colab_type": "code",
        "colab": {
          "base_uri": "https://localhost:8080/",
          "height": 88
        },
        "outputId": "f4a20153-8ad4-408f-e22e-e3cf854d1086"
      },
      "source": [
        "# n=8\n",
        "pca=PCA(n_components=8)\n",
        "X_pca = pca.fit_transform(X)\n",
        "svm_pca = SVC(kernel='rbf')\n",
        "train_X_pca, val_X_pca, train_y_pca, val_y_pca = train_test_split(X_pca, y, \n",
        "                                                    train_size=0.8,\n",
        "                                                    test_size=0.2,\n",
        "                                                    random_state=100)\n",
        "\n",
        "svm_pca.fit(train_X_pca, train_y_pca) \n",
        "y_svm_pca = svm_pca.predict(train_X_pca)\n",
        "\n",
        "svm_pca_acc = accuracy_score(train_y_pca, y_svm_pca)\n",
        "print(svm_pca_acc)"
      ],
      "execution_count": 34,
      "outputs": [
        {
          "output_type": "stream",
          "text": [
            "0.8897576231430805\n"
          ],
          "name": "stdout"
        },
        {
          "output_type": "stream",
          "text": [
            "/usr/local/lib/python3.6/dist-packages/sklearn/svm/base.py:193: FutureWarning: The default value of gamma will change from 'auto' to 'scale' in version 0.22 to account better for unscaled features. Set gamma explicitly to 'auto' or 'scale' to avoid this warning.\n",
            "  \"avoid this warning.\", FutureWarning)\n"
          ],
          "name": "stderr"
        }
      ]
    },
    {
      "cell_type": "code",
      "metadata": {
        "id": "ULchf4I8yVQg",
        "colab_type": "code",
        "colab": {
          "base_uri": "https://localhost:8080/",
          "height": 258
        },
        "outputId": "e190122b-ca40-45ce-ab65-a5e9e01b9d72"
      },
      "source": [
        "## forestclf selection\n",
        "forestclf_select = RandomForestClassifier(random_state=100)\n",
        "forestclf_select.fit(train_X, train_y)\n",
        "model = SelectFromModel(forestclf_select, prefit=True, max_features=11) \n",
        "feature_idx = model.get_support()\n",
        "feature_names = X.columns[feature_idx]\n",
        "X_fcs = pd.DataFrame(model.transform(X), columns= feature_names)\n",
        "\n",
        "train_X_fcs, val_X_fcs, train_y_fcs, val_y_fcs = train_test_split(X_fcs, y, \n",
        "                                                    train_size=0.8,\n",
        "                                                    test_size=0.2,\n",
        "                                                    random_state=100)\n",
        "\n",
        "X_fcs.head()"
      ],
      "execution_count": 46,
      "outputs": [
        {
          "output_type": "stream",
          "text": [
            "/usr/local/lib/python3.6/dist-packages/sklearn/ensemble/forest.py:245: FutureWarning: The default value of n_estimators will change from 10 in version 0.20 to 100 in 0.22.\n",
            "  \"10 in version 0.20 to 100 in 0.22.\", FutureWarning)\n"
          ],
          "name": "stderr"
        },
        {
          "output_type": "execute_result",
          "data": {
            "text/html": [
              "<div>\n",
              "<style scoped>\n",
              "    .dataframe tbody tr th:only-of-type {\n",
              "        vertical-align: middle;\n",
              "    }\n",
              "\n",
              "    .dataframe tbody tr th {\n",
              "        vertical-align: top;\n",
              "    }\n",
              "\n",
              "    .dataframe thead th {\n",
              "        text-align: right;\n",
              "    }\n",
              "</style>\n",
              "<table border=\"1\" class=\"dataframe\">\n",
              "  <thead>\n",
              "    <tr style=\"text-align: right;\">\n",
              "      <th></th>\n",
              "      <th>v_acid</th>\n",
              "      <th>sul</th>\n",
              "      <th>alc</th>\n",
              "    </tr>\n",
              "  </thead>\n",
              "  <tbody>\n",
              "    <tr>\n",
              "      <th>0</th>\n",
              "      <td>0.70</td>\n",
              "      <td>0.56</td>\n",
              "      <td>9.4</td>\n",
              "    </tr>\n",
              "    <tr>\n",
              "      <th>1</th>\n",
              "      <td>0.88</td>\n",
              "      <td>0.68</td>\n",
              "      <td>9.8</td>\n",
              "    </tr>\n",
              "    <tr>\n",
              "      <th>2</th>\n",
              "      <td>0.76</td>\n",
              "      <td>0.65</td>\n",
              "      <td>9.8</td>\n",
              "    </tr>\n",
              "    <tr>\n",
              "      <th>3</th>\n",
              "      <td>0.28</td>\n",
              "      <td>0.58</td>\n",
              "      <td>9.8</td>\n",
              "    </tr>\n",
              "    <tr>\n",
              "      <th>4</th>\n",
              "      <td>0.70</td>\n",
              "      <td>0.56</td>\n",
              "      <td>9.4</td>\n",
              "    </tr>\n",
              "  </tbody>\n",
              "</table>\n",
              "</div>"
            ],
            "text/plain": [
              "   v_acid   sul  alc\n",
              "0    0.70  0.56  9.4\n",
              "1    0.88  0.68  9.8\n",
              "2    0.76  0.65  9.8\n",
              "3    0.28  0.58  9.8\n",
              "4    0.70  0.56  9.4"
            ]
          },
          "metadata": {
            "tags": []
          },
          "execution_count": 46
        }
      ]
    },
    {
      "cell_type": "code",
      "metadata": {
        "id": "rWhHIs1i1mCf",
        "colab_type": "code",
        "colab": {
          "base_uri": "https://localhost:8080/",
          "height": 88
        },
        "outputId": "ab0a2874-31ae-40c4-ddb3-93f8ff5349e7"
      },
      "source": [
        "## SVM with sk feature selection \n",
        "svm_fcs = SVC(kernel='rbf')\n",
        "svm_fcs.fit(train_X_fcs, train_y_fcs)\n",
        "y_svm_fcs = svm_fcs.predict(train_X_fcs)\n",
        "\n",
        "svm_fcs_acc = accuracy_score(train_y_fcs, y_svm_fcs)\n",
        "print(svm_fcs_acc)"
      ],
      "execution_count": 39,
      "outputs": [
        {
          "output_type": "stream",
          "text": [
            "0.838154808444097\n"
          ],
          "name": "stdout"
        },
        {
          "output_type": "stream",
          "text": [
            "/usr/local/lib/python3.6/dist-packages/sklearn/svm/base.py:193: FutureWarning: The default value of gamma will change from 'auto' to 'scale' in version 0.22 to account better for unscaled features. Set gamma explicitly to 'auto' or 'scale' to avoid this warning.\n",
            "  \"avoid this warning.\", FutureWarning)\n"
          ],
          "name": "stderr"
        }
      ]
    },
    {
      "cell_type": "code",
      "metadata": {
        "id": "7ipfXlwIkfOL",
        "colab_type": "code",
        "colab": {
          "base_uri": "https://localhost:8080/",
          "height": 88
        },
        "outputId": "727e6633-76f7-47d0-96d0-728f1fc7ed03"
      },
      "source": [
        "### forest, forest with pca, forest with feature selection\n",
        "## naive forest\n",
        "from sklearn.ensemble import RandomForestClassifier\n",
        "\n",
        "forestclf = RandomForestClassifier(random_state=100)\n",
        "forestclf.fit(train_X, train_y) \n",
        "y_forestclf = forestclf.predict(train_X)\n",
        "\n",
        "forestclf_acc = accuracy_score(train_y, y_forestclf)\n",
        "print(forestclf_acc)"
      ],
      "execution_count": 30,
      "outputs": [
        {
          "output_type": "stream",
          "text": [
            "0.9906176700547302\n"
          ],
          "name": "stdout"
        },
        {
          "output_type": "stream",
          "text": [
            "/usr/local/lib/python3.6/dist-packages/sklearn/ensemble/forest.py:245: FutureWarning: The default value of n_estimators will change from 10 in version 0.20 to 100 in 0.22.\n",
            "  \"10 in version 0.20 to 100 in 0.22.\", FutureWarning)\n"
          ],
          "name": "stderr"
        }
      ]
    },
    {
      "cell_type": "code",
      "metadata": {
        "id": "66UbiDOcqDXn",
        "colab_type": "code",
        "colab": {}
      },
      "source": [
        "## forest with PCA\n",
        "# optimize n_components\n",
        "n_range = range(1,12)\n",
        "n_scores = []\n",
        "\n",
        "for n in n_range:\n",
        "    pca=PCA(n_components=n) \n",
        "    X_pca = pca.fit_transform(X)\n",
        "    forest_temp = RandomForestClassifier(random_state=100)\n",
        "    scores = cross_validate(forest_temp, X_pca, y, cv=5, scoring='accuracy')\n",
        "    n_scores.append(scores['test_score'].mean())\n",
        "\n",
        "plt.plot(n_range, n_scores)\n",
        "plt.xlabel('# of components')\n",
        "plt.ylabel('Cross-Validated Accuracy')\n",
        "plt.show()"
      ],
      "execution_count": 0,
      "outputs": []
    },
    {
      "cell_type": "code",
      "metadata": {
        "id": "WfzXVT9TqaFa",
        "colab_type": "code",
        "colab": {
          "base_uri": "https://localhost:8080/",
          "height": 88
        },
        "outputId": "daf4574a-e924-4422-b530-44de5679bddc"
      },
      "source": [
        "# n=10\n",
        "pca=PCA(n_components=10)\n",
        "X_pca = pca.fit_transform(X)\n",
        "forestclf_pca = RandomForestClassifier(random_state=100)\n",
        "train_X_pca, val_X_pca, train_y_pca, val_y_pca = train_test_split(X_pca, y, \n",
        "                                                    train_size=0.8,\n",
        "                                                    test_size=0.2,\n",
        "                                                    random_state=100)\n",
        "\n",
        "forestclf_pca.fit(train_X_pca, train_y_pca) \n",
        "y_forestclf_pca = forestclf_pca.predict(train_X_pca)\n",
        "\n",
        "forestclf_pca_acc = accuracy_score(train_y_pca, y_forestclf_pca)\n",
        "print(forestclf_pca_acc)"
      ],
      "execution_count": 36,
      "outputs": [
        {
          "output_type": "stream",
          "text": [
            "0.9906176700547302\n"
          ],
          "name": "stdout"
        },
        {
          "output_type": "stream",
          "text": [
            "/usr/local/lib/python3.6/dist-packages/sklearn/ensemble/forest.py:245: FutureWarning: The default value of n_estimators will change from 10 in version 0.20 to 100 in 0.22.\n",
            "  \"10 in version 0.20 to 100 in 0.22.\", FutureWarning)\n"
          ],
          "name": "stderr"
        }
      ]
    },
    {
      "cell_type": "code",
      "metadata": {
        "id": "ww6PxsKHquIg",
        "colab_type": "code",
        "colab": {
          "base_uri": "https://localhost:8080/",
          "height": 88
        },
        "outputId": "b32c3d5d-c5d2-42ce-d050-7024494c6fc8"
      },
      "source": [
        "## forestclf with feature selection \n",
        "forestclf_fcs = RandomForestClassifier(random_state=100)\n",
        "forestclf_fcs.fit(train_X_fcs, train_y_fcs)\n",
        "y_forestclf_fcs = forestclf_fcs.predict(train_X_fcs)\n",
        "\n",
        "forestclf_fcs_acc = accuracy_score(train_y_fcs, y_forestclf_fcs)\n",
        "print(forestclf_fcs_acc)"
      ],
      "execution_count": 44,
      "outputs": [
        {
          "output_type": "stream",
          "text": [
            "0.9898358092259578\n"
          ],
          "name": "stdout"
        },
        {
          "output_type": "stream",
          "text": [
            "/usr/local/lib/python3.6/dist-packages/sklearn/ensemble/forest.py:245: FutureWarning: The default value of n_estimators will change from 10 in version 0.20 to 100 in 0.22.\n",
            "  \"10 in version 0.20 to 100 in 0.22.\", FutureWarning)\n"
          ],
          "name": "stderr"
        }
      ]
    },
    {
      "cell_type": "code",
      "metadata": {
        "id": "qxOx6GuptbuQ",
        "colab_type": "code",
        "colab": {}
      },
      "source": [
        "### naive regression, lasso regression, forest regression, naive regression with sk.select, naive regression with pca\n",
        "from sklearn.metrics import mean_squared_log_error\n",
        "\n",
        "yreg = data.quality\n",
        "train_X, val_X, train_y, val_y = train_test_split(X, yreg, \n",
        "                                                    train_size=0.8,\n",
        "                                                    test_size=0.2,\n",
        "                                                    random_state=100)\n"
      ],
      "execution_count": 0,
      "outputs": []
    },
    {
      "cell_type": "code",
      "metadata": {
        "id": "sKdWB4ftynLc",
        "colab_type": "code",
        "colab": {}
      },
      "source": [
        "## naive regresion \n",
        "from sklearn.linear_model import LinearRegression\n",
        "\n",
        "lm = LinearRegression()\n",
        "lm.fit(train_X, train_y)\n",
        "y_lm = (lm.predict(train_X)).round()\n",
        "\n",
        "lm_mse = mean_squared_log_error(train_y, y_lm)\n",
        "print(lm_mse)\n",
        "\n",
        "pd.DataFrame( list(zip(X.columns, lm.coef_)),\n",
        "            columns=['features', 'estimatedCoeffs'])"
      ],
      "execution_count": 0,
      "outputs": []
    },
    {
      "cell_type": "code",
      "metadata": {
        "id": "-21TA6cT3Yd9",
        "colab_type": "code",
        "colab": {
          "base_uri": "https://localhost:8080/",
          "height": 88
        },
        "outputId": "bd346c3f-fff7-4ba9-b690-bac1bca6e8df"
      },
      "source": [
        "## forest regression\n",
        "from sklearn.ensemble import RandomForestRegressor\n",
        "forestreg = RandomForestRegressor(random_state=100)\n",
        "forestreg.fit(train_X, train_y)\n",
        "y_forestreg = (forestreg.predict(train_X)).round()\n",
        "\n",
        "forestreg_mse = mean_squared_log_error(train_y, y_forestreg)\n",
        "print(forestreg_mse)"
      ],
      "execution_count": 53,
      "outputs": [
        {
          "output_type": "stream",
          "text": [
            "0.0015595538544017986\n"
          ],
          "name": "stdout"
        },
        {
          "output_type": "stream",
          "text": [
            "/usr/local/lib/python3.6/dist-packages/sklearn/ensemble/forest.py:245: FutureWarning: The default value of n_estimators will change from 10 in version 0.20 to 100 in 0.22.\n",
            "  \"10 in version 0.20 to 100 in 0.22.\", FutureWarning)\n"
          ],
          "name": "stderr"
        }
      ]
    },
    {
      "cell_type": "code",
      "metadata": {
        "id": "fnv0zgAGxlgD",
        "colab_type": "code",
        "colab": {}
      },
      "source": [
        "## forestreg selection\n",
        "forestreg_select = RandomForestRegressor(random_state=100)\n",
        "forestreg_select.fit(train_X, train_y)\n",
        "model = SelectFromModel(forestreg_select, prefit=True, max_features=11) \n",
        "feature_idx = model.get_support()\n",
        "feature_names = X.columns[feature_idx]\n",
        "X_frs = pd.DataFrame(model.transform(X), columns= feature_names)\n",
        "\n",
        "train_X_frs, val_X_frs, train_y_frs, val_y_frs = train_test_split(X_frs, yreg, \n",
        "                                                    train_size=0.8,\n",
        "                                                    test_size=0.2,\n",
        "                                                    random_state=100)\n",
        "\n",
        "X_frs"
      ],
      "execution_count": 0,
      "outputs": []
    },
    {
      "cell_type": "code",
      "metadata": {
        "id": "tZ6tKM3h2jhj",
        "colab_type": "code",
        "colab": {
          "base_uri": "https://localhost:8080/",
          "height": 34
        },
        "outputId": "5df50b90-412f-4ef2-c182-6a599e5274a1"
      },
      "source": [
        "## naive regresion with forestreg selection\n",
        "lm_frs = LinearRegression()\n",
        "lm_frs.fit( train_X_frs, train_y_frs )\n",
        "y_lm_frs = (lm_frs.predict(train_X_frs)).round()\n",
        "\n",
        "lm_frs_mse = mean_squared_log_error(train_y_frs, y_lm_frs)\n",
        "print(lm_frs_mse)"
      ],
      "execution_count": 67,
      "outputs": [
        {
          "output_type": "stream",
          "text": [
            "0.012047119301358518\n"
          ],
          "name": "stdout"
        }
      ]
    },
    {
      "cell_type": "code",
      "metadata": {
        "id": "4ORSrfeu4APo",
        "colab_type": "code",
        "colab": {}
      },
      "source": [
        "## naive regression with pca\n",
        "# optimize n_components\n",
        "n_range = range(1,12)\n",
        "n_scores = []\n",
        "\n",
        "for n in n_range:\n",
        "    pca=PCA(n_components=n) \n",
        "    X_pca = pca.fit_transform(X)\n",
        "    lm_temp = LinearRegression()\n",
        "    scores = cross_validate(lm_temp, X_pca, yreg, cv=5, scoring='neg_mean_squared_error')\n",
        "    n_scores.append(scores['test_score'].mean())\n",
        "\n",
        "plt.plot(n_range, n_scores)\n",
        "plt.xlabel('# of components')\n",
        "plt.ylabel('Cross-Validated neg_mse')\n",
        "plt.show()"
      ],
      "execution_count": 0,
      "outputs": []
    },
    {
      "cell_type": "code",
      "metadata": {
        "id": "ruzVV4kZ5T97",
        "colab_type": "code",
        "colab": {
          "base_uri": "https://localhost:8080/",
          "height": 34
        },
        "outputId": "90dffe9c-052d-431b-f58e-b61f6504b835"
      },
      "source": [
        "# n=10\n",
        "pca=PCA(n_components=10)\n",
        "X_pca = pca.fit_transform(X)\n",
        "train_X_pca, val_X_pca, train_y_pca, val_y_pca = train_test_split(X_pca, yreg, \n",
        "                                                    train_size=0.8,\n",
        "                                                    test_size=0.2,\n",
        "                                                    random_state=100)\n",
        "\n",
        "lm_pca = LinearRegression()\n",
        "lm_pca.fit( train_X_pca, train_y_pca )\n",
        "y_lm_pca = (lm_pca.predict(train_X_pca)).round()\n",
        "\n",
        "lm_pca_mse = mean_squared_log_error(train_y_pca, y_lm_pca)\n",
        "print(lm_pca_mse)"
      ],
      "execution_count": 58,
      "outputs": [
        {
          "output_type": "stream",
          "text": [
            "0.011647456924306843\n"
          ],
          "name": "stdout"
        }
      ]
    },
    {
      "cell_type": "code",
      "metadata": {
        "id": "0zGBw4k15vNx",
        "colab_type": "code",
        "colab": {}
      },
      "source": [
        "## lasso\n",
        "from sklearn.linear_model import LassoCV\n",
        "lasso = LassoCV(cv=5, random_state=100)\n",
        "lasso.fit(X, yreg)\n",
        "y_lasso = (lasso.predict(train_X)).round()\n",
        "\n",
        "lasso_mse = mean_squared_log_error(train_y_pca, y_lasso)\n",
        "print(lasso_mse)\n",
        "\n",
        "pd.DataFrame( list(zip(X.columns, lasso.coef_)),\n",
        "            columns=['features', 'estimatedCoeffs'])"
      ],
      "execution_count": 0,
      "outputs": []
    },
    {
      "cell_type": "code",
      "metadata": {
        "id": "E8JNlzCCJs4_",
        "colab_type": "code",
        "colab": {}
      },
      "source": [
        "### extra experiments\n",
        "y = data.review\n",
        "X1 = data.loc[:,['pH', 'cl']]\n",
        "\n",
        "train_X1, val_X1, train_y1, val_y1 = train_test_split(X1, y, \n",
        "                                                    train_size=0.8,\n",
        "                                                    test_size=0.2,\n",
        "                                                    random_state=100)\n",
        "\n",
        "X2 = data.drop(['quality', 'review', 'pH', 'cl'], axis=1)\n",
        "\n",
        "train_X2, val_X2, train_y2, val_y2 = train_test_split(X2, y, \n",
        "                                                    train_size=0.8,\n",
        "                                                    test_size=0.2,\n",
        "                                                    random_state=100)"
      ],
      "execution_count": 0,
      "outputs": []
    },
    {
      "cell_type": "code",
      "metadata": {
        "id": "YmqTULpiMhFO",
        "colab_type": "code",
        "colab": {}
      },
      "source": [
        "svm1 = SVC(kernel= 'rbf')\n",
        "svm2 = SVC(kernel= 'rbf')\n",
        "\n",
        "svm1.fit(train_X1, train_y1)\n",
        "svm2.fit(train_X2, train_y2)\n",
        "\n",
        "y1 = svm1.predict(val_X1)\n",
        "y2 = svm2.predict(val_X2)\n",
        "\n",
        "acc1 = accuracy_score(val_y1, y1)\n",
        "acc2 = accuracy_score(val_y2, y2)\n",
        "print([acc1,acc2])\n",
        "\n"
      ],
      "execution_count": 0,
      "outputs": []
    },
    {
      "cell_type": "code",
      "metadata": {
        "id": "egp9E6sgO2yG",
        "colab_type": "code",
        "colab": {}
      },
      "source": [
        "### improve regression by using LGBM\n",
        "import lightgbm as lgb\n",
        "\n",
        "gbm = lgb.LGBMRegressor(objective='regression',num_leaves=31,learning_rate=0.05, n_estimators=50)\n",
        "gbm.fit(train_X, train_y,eval_set=[(train_X, train_y)],eval_metric='l1',early_stopping_rounds=5)\n",
        "y_gbm = gbm.predict(train_X, num_iteration=gbm.best_iteration_)\n",
        "\n",
        "gbm_mse = mean_squared_log_error(train_y, y_gbm)\n",
        "print(gbm_mse)"
      ],
      "execution_count": 0,
      "outputs": []
    },
    {
      "cell_type": "code",
      "metadata": {
        "id": "0K3rurArYRQD",
        "colab_type": "code",
        "colab": {}
      },
      "source": [
        ""
      ],
      "execution_count": 0,
      "outputs": []
    }
  ]
}